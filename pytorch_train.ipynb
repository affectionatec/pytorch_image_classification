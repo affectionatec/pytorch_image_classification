{
 "cells": [
  {
   "cell_type": "code",
   "execution_count": null,
   "metadata": {
    "collapsed": true
   },
   "outputs": [],
   "source": [
    "# image net dataset - ISLVRC2012 local machine practise"
   ]
  },
  {
   "cell_type": "code",
   "execution_count": 1,
   "outputs": [],
   "source": [
    "class DefaultConfigs(object):\n",
    "\n",
    "    train_dir = \"../train\"\n",
    "    val_dir = '../val'\n",
    "    model_name = \"resnet18\"\n",
    "    weights = \"./checkpoints/\"\n",
    "    best_models = weights + \"best_model/\"\n",
    "\n",
    "    epochs = 40\n",
    "    start_epoch = 0\n",
    "    batch_size = 16\n",
    "    momentum = 0.9\n",
    "    lr = 1e-3\n",
    "    weight_decay = 1e-4\n",
    "    interval = 10\n",
    "    workers = 12\n",
    "\n",
    "    evaluate = False\n",
    "    pretrained = False\n",
    "    resume = False"
   ],
   "metadata": {
    "collapsed": false,
    "pycharm": {
     "name": "#%%\n"
    }
   }
  }
 ],
 "metadata": {
  "kernelspec": {
   "display_name": "Python 3",
   "language": "python",
   "name": "python3"
  },
  "language_info": {
   "codemirror_mode": {
    "name": "ipython",
    "version": 2
   },
   "file_extension": ".py",
   "mimetype": "text/x-python",
   "name": "python",
   "nbconvert_exporter": "python",
   "pygments_lexer": "ipython2",
   "version": "2.7.6"
  }
 },
 "nbformat": 4,
 "nbformat_minor": 0
}